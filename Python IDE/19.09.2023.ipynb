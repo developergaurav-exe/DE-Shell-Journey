{
 "cells": [
  {
   "cell_type": "code",
   "execution_count": 31,
   "id": "c46ba43f",
   "metadata": {},
   "outputs": [],
   "source": [
    "def calculate_boyle(p1, p2, v1):\n",
    "    if p2:\n",
    "        v2 = (p1/p2)*v1\n",
    "        T = (p2*v2)/1*8.314\n",
    "        return T\n",
    "    else:\n",
    "        return (\"Cannot Calculate, P2 is zero\")"
   ]
  },
  {
   "cell_type": "code",
   "execution_count": 32,
   "id": "405e6fe6",
   "metadata": {},
   "outputs": [
    {
     "name": "stdout",
     "output_type": "stream",
     "text": [
      "24.942\n"
     ]
    }
   ],
   "source": [
    "print(calculate_boyle(1,2,3))"
   ]
  },
  {
   "cell_type": "code",
   "execution_count": 35,
   "id": "4040f2d1",
   "metadata": {},
   "outputs": [],
   "source": [
    "calculate_boyle = lambda p1, p2, v1: ( ((p1/p2)*v1) * (p2 * ((p1/p2)*v1) ) / (1*8.314) ) if p2 else \"Cannot Calculate, P2 is zero\""
   ]
  },
  {
   "cell_type": "code",
   "execution_count": 38,
   "id": "d3a4d39d",
   "metadata": {},
   "outputs": [
    {
     "name": "stdout",
     "output_type": "stream",
     "text": [
      "0.541255713254751\n"
     ]
    }
   ],
   "source": [
    "print(calculate_boyle(1,2,3))"
   ]
  },
  {
   "cell_type": "code",
   "execution_count": 41,
   "id": "0e177e58",
   "metadata": {},
   "outputs": [],
   "source": [
    "from datetime import datetime"
   ]
  },
  {
   "cell_type": "code",
   "execution_count": 42,
   "id": "1516cffb",
   "metadata": {},
   "outputs": [],
   "source": [
    "def current_datetime():\n",
    "    current_datetime = datetime.now()\n",
    "    formatted_datetime = current_datetime.strftime(\"%Y-%m-%d %H:%M:%S\")\n",
    "    return formatted_datetime"
   ]
  },
  {
   "cell_type": "code",
   "execution_count": 43,
   "id": "a5f51e6e",
   "metadata": {},
   "outputs": [
    {
     "name": "stdout",
     "output_type": "stream",
     "text": [
      "2023-09-19 04:29:05\n"
     ]
    }
   ],
   "source": [
    "print(current_datetime())"
   ]
  },
  {
   "cell_type": "code",
   "execution_count": 47,
   "id": "561e05ab",
   "metadata": {},
   "outputs": [],
   "source": [
    "def unix_timestamp():\n",
    "    current_datetime = datetime.now()\n",
    "    unix_timestamp = int(current_datetime.timestamp())\n",
    "    return unix_timestamp"
   ]
  },
  {
   "cell_type": "code",
   "execution_count": 48,
   "id": "a475ff00",
   "metadata": {},
   "outputs": [
    {
     "name": "stdout",
     "output_type": "stream",
     "text": [
      "1695097910\n"
     ]
    }
   ],
   "source": [
    "print(unix_timestamp())"
   ]
  },
  {
   "cell_type": "code",
   "execution_count": 71,
   "id": "f61c43bc",
   "metadata": {},
   "outputs": [],
   "source": [
    "def custom_datetime_timestamp():\n",
    "    current_datetime = datetime.now()\n",
    "    formatted_datetime = current_datetime.strftime(\"%d.%m.%Y %H:%M:%S\")\n",
    "    return formatted_datetime"
   ]
  },
  {
   "cell_type": "code",
   "execution_count": 72,
   "id": "955ea3a4",
   "metadata": {},
   "outputs": [
    {
     "name": "stdout",
     "output_type": "stream",
     "text": [
      "19.09.2023 04:51:25\n"
     ]
    }
   ],
   "source": [
    "print(custom_datetime_timestamp())"
   ]
  },
  {
   "cell_type": "code",
   "execution_count": 69,
   "id": "9cf46c06",
   "metadata": {},
   "outputs": [],
   "source": [
    "def elapsed_time(start_datetime, end_datetime):\n",
    "    elapsed_time = end_datetime - start_datetime\n",
    "    \n",
    "    elapsed_years = elapsed_time.days/365\n",
    "    elapsed_months = (elapsed_time.days%365)/30\n",
    "    elapsed_days = (elapsed_time.days%365)%30\n",
    "    elapsed_seconds = elapsed_time.total_seconds()\n",
    "    \n",
    "    return elapsed_years, elapsed_months, elapsed_days, elapsed_seconds"
   ]
  },
  {
   "cell_type": "code",
   "execution_count": 70,
   "id": "044db52c",
   "metadata": {},
   "outputs": [
    {
     "name": "stdout",
     "output_type": "stream",
     "text": [
      "(2.7150684931506848, 8.7, 21, 85665600.0)\n"
     ]
    }
   ],
   "source": [
    "start_datetime = datetime(2021, 1, 1, 0, 0, 0)\n",
    "end_datetime = datetime(2023, 9, 19, 12, 0, 0)\n",
    "\n",
    "elapsed_seconds = elapsed_time(start_datetime, end_datetime)\n",
    "print(elapsed_seconds)"
   ]
  },
  {
   "cell_type": "code",
   "execution_count": 79,
   "id": "e8513fdc",
   "metadata": {},
   "outputs": [],
   "source": [
    "def fun(a, b, c=5):\n",
    "    print(a,b,c)"
   ]
  },
  {
   "cell_type": "code",
   "execution_count": 85,
   "id": "d0e91eba",
   "metadata": {},
   "outputs": [
    {
     "name": "stdout",
     "output_type": "stream",
     "text": [
      "1 2 5\n"
     ]
    }
   ],
   "source": [
    "fun(1,2)"
   ]
  },
  {
   "cell_type": "code",
   "execution_count": 87,
   "id": "81f34fca",
   "metadata": {},
   "outputs": [],
   "source": [
    "def fun(*nums):\n",
    "    print(nums)"
   ]
  },
  {
   "cell_type": "code",
   "execution_count": 89,
   "id": "7dd1fd1f",
   "metadata": {},
   "outputs": [
    {
     "name": "stdout",
     "output_type": "stream",
     "text": [
      "(1, 2, 3, 4, 5)\n"
     ]
    }
   ],
   "source": [
    "fun(1,2,3,4,5)"
   ]
  },
  {
   "cell_type": "code",
   "execution_count": 91,
   "id": "529f5e3f",
   "metadata": {},
   "outputs": [],
   "source": [
    "def factorial(n):\n",
    "    if n == 0:\n",
    "        return 1\n",
    "    else:\n",
    "        return n * factorial(n - 1)"
   ]
  },
  {
   "cell_type": "code",
   "execution_count": 92,
   "id": "a7bac145",
   "metadata": {},
   "outputs": [
    {
     "name": "stdout",
     "output_type": "stream",
     "text": [
      "120\n"
     ]
    }
   ],
   "source": [
    "print(factorial(5))"
   ]
  },
  {
   "cell_type": "code",
   "execution_count": 102,
   "id": "1051971f",
   "metadata": {},
   "outputs": [],
   "source": [
    "oil_well = {\n",
    "    \"name\": \"Well A\",\n",
    "    \"initial_reserves\": 1000,\n",
    "    \"decline_rate\": 0.1,\n",
    "}"
   ]
  },
  {
   "cell_type": "code",
   "execution_count": 106,
   "id": "57e1768f",
   "metadata": {},
   "outputs": [],
   "source": [
    "def calculate_remaining_reserves(year, well):\n",
    "    if year == 0:\n",
    "        return well[\"initial_reserves\"]\n",
    "    else:\n",
    "        previous_reserves = calculate_remaining_reserves(year - 1, well)\n",
    "        current_reserves = previous_reserves - (well[\"decline_rate\"])\n",
    "        return current_reserves"
   ]
  },
  {
   "cell_type": "code",
   "execution_count": 108,
   "id": "79b97d37",
   "metadata": {},
   "outputs": [
    {
     "name": "stdout",
     "output_type": "stream",
     "text": [
      "Remaining reserves for Well A after year 1: 999.9\n",
      "Remaining reserves for Well A after year 2: 999.8\n",
      "Remaining reserves for Well A after year 3: 999.6999999999999\n",
      "Remaining reserves for Well A after year 4: 999.5999999999999\n",
      "Remaining reserves for Well A after year 5: 999.4999999999999\n"
     ]
    }
   ],
   "source": [
    "remaining_reserves1 = calculate_remaining_reserves(1, oil_well)\n",
    "remaining_reserves2 = calculate_remaining_reserves(2, oil_well)\n",
    "remaining_reserves3 = calculate_remaining_reserves(3, oil_well)\n",
    "remaining_reserves4 = calculate_remaining_reserves(4, oil_well)\n",
    "remaining_reserves5 = calculate_remaining_reserves(5, oil_well)\n",
    "print(f\"Remaining reserves for {oil_well['name']} after year 1: {remaining_reserves1}\")\n",
    "print(f\"Remaining reserves for {oil_well['name']} after year 2: {remaining_reserves2}\")\n",
    "print(f\"Remaining reserves for {oil_well['name']} after year 3: {remaining_reserves3}\")\n",
    "print(f\"Remaining reserves for {oil_well['name']} after year 4: {remaining_reserves4}\")\n",
    "print(f\"Remaining reserves for {oil_well['name']} after year 5: {remaining_reserves5}\")"
   ]
  },
  {
   "cell_type": "code",
   "execution_count": 134,
   "id": "943ff8b7",
   "metadata": {},
   "outputs": [],
   "source": [
    "def decorator(func):\n",
    "    def inner(name):\n",
    "        if name=='Aadil':\n",
    "            print(\"Happy Morning Aadil\")\n",
    "        else:\n",
    "            func(name)\n",
    "    return inner"
   ]
  },
  {
   "cell_type": "code",
   "execution_count": 135,
   "id": "7ce5360c",
   "metadata": {},
   "outputs": [],
   "source": [
    "@decorator\n",
    "def wish(name):\n",
    "      print(\"Hello\", str(name),\"Good Morning\")"
   ]
  },
  {
   "cell_type": "code",
   "execution_count": null,
   "id": "040a2c30",
   "metadata": {},
   "outputs": [],
   "source": []
  }
 ],
 "metadata": {
  "kernelspec": {
   "display_name": "Python 3 (ipykernel)",
   "language": "python",
   "name": "python3"
  },
  "language_info": {
   "codemirror_mode": {
    "name": "ipython",
    "version": 3
   },
   "file_extension": ".py",
   "mimetype": "text/x-python",
   "name": "python",
   "nbconvert_exporter": "python",
   "pygments_lexer": "ipython3",
   "version": "3.11.4"
  }
 },
 "nbformat": 4,
 "nbformat_minor": 5
}
